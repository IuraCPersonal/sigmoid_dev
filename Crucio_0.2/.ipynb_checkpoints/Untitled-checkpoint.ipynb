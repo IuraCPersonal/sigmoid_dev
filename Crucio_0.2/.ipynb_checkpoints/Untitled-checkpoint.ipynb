{
 "cells": [
  {
   "cell_type": "code",
   "execution_count": null,
   "id": "1a055098",
   "metadata": {},
   "outputs": [],
   "source": [
    "from ADOMS import ADOMS\n",
    "import pandas as pd"
   ]
  },
  {
   "cell_type": "code",
   "execution_count": null,
   "id": "fffee79a",
   "metadata": {},
   "outputs": [],
   "source": [
    "df = pd.read_csv('heart.csv')\n",
    "df.head()"
   ]
  },
  {
   "cell_type": "code",
   "execution_count": null,
   "id": "0e51a3bc",
   "metadata": {},
   "outputs": [],
   "source": [
    "test = ADOMS(binary_columns=['sex', 'target'])"
   ]
  },
  {
   "cell_type": "code",
   "execution_count": null,
   "id": "068b3c04",
   "metadata": {},
   "outputs": [],
   "source": [
    "test.balance(df, 'target')"
   ]
  },
  {
   "cell_type": "code",
   "execution_count": null,
   "id": "299bc870",
   "metadata": {},
   "outputs": [],
   "source": []
  },
  {
   "cell_type": "code",
   "execution_count": null,
   "id": "8b88cd14-18c0-4136-821f-95b1e6e5fecf",
   "metadata": {},
   "outputs": [],
   "source": []
  }
 ],
 "metadata": {
  "kernelspec": {
   "display_name": "Python 3 (ipykernel)",
   "language": "python",
   "name": "python3"
  },
  "language_info": {
   "codemirror_mode": {
    "name": "ipython",
    "version": 3
   },
   "file_extension": ".py",
   "mimetype": "text/x-python",
   "name": "python",
   "nbconvert_exporter": "python",
   "pygments_lexer": "ipython3",
   "version": "3.10.2"
  }
 },
 "nbformat": 4,
 "nbformat_minor": 5
}
